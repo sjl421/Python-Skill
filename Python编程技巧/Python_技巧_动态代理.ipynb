{
 "cells": [
  {
   "cell_type": "markdown",
   "metadata": {},
   "source": [
    "# 动态代理常用来包装原始方法调用，用于增强或改写现有方法的逻辑\n",
    "### 我们使用了神奇的__getattribute__方法。在Python里面类的属性(方法)都是一个对象，我们先拿到这个类方法对象attr，然后对这个类方法对象进行包装，再返回包装后的新方法对象newAttr。\n",
    "### 注意在获取target对象时，不能直接使用self.target，因为self.target会再次调用__getattribute__方法，这样就会导致死循环致堆栈过深曝出异常。取而代之应该使用object.__getattribute__方法来获取对象的属性值。\n",
    "\n",
    "\n",
    "作者：老錢\n",
    "链接：https://juejin.im/post/5b0fa21a6fb9a00a21796846\n",
    "来源：掘金\n",
    "著作权归作者所有。商业转载请联系作者获得授权，非商业转载请注明出处。"
   ]
  },
  {
   "cell_type": "code",
   "execution_count": 1,
   "metadata": {},
   "outputs": [
    {
     "name": "stdout",
     "output_type": "stream",
     "text": [
      "before print\n",
      "hello world\n",
      "after print\n"
     ]
    }
   ],
   "source": [
    "class Proxy(object):\n",
    "\n",
    "    def __init__(self, target):\n",
    "        self.target = target\n",
    "\n",
    "    def __getattribute__(self, name):\n",
    "        target = object.__getattribute__(self, \"target\")\n",
    "        attr = object.__getattribute__(target, name)\n",
    "\n",
    "        def newAttr(*args, **kwargs):  # 包装\n",
    "            print \"before print\"\n",
    "            res = attr(*args, **kwargs)\n",
    "            print \"after print\"\n",
    "            return res\n",
    "        return newAttr\n",
    "\n",
    "\n",
    "class RealHello(object):\n",
    "\n",
    "    def prints(self, s):\n",
    "        print 'hello', s\n",
    "\n",
    "\n",
    "if __name__ == '__main__':\n",
    "    t = RealHello()\n",
    "    p = Proxy(t)\n",
    "    p.prints(\"world\")\n"
   ]
  },
  {
   "cell_type": "code",
   "execution_count": null,
   "metadata": {},
   "outputs": [],
   "source": []
  }
 ],
 "metadata": {
  "kernelspec": {
   "display_name": "Python 2",
   "language": "python",
   "name": "python2"
  },
  "language_info": {
   "codemirror_mode": {
    "name": "ipython",
    "version": 2
   },
   "file_extension": ".py",
   "mimetype": "text/x-python",
   "name": "python",
   "nbconvert_exporter": "python",
   "pygments_lexer": "ipython2",
   "version": "2.7.14"
  }
 },
 "nbformat": 4,
 "nbformat_minor": 2
}
