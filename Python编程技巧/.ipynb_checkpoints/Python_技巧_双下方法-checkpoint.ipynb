{
 "cells": [
  {
   "cell_type": "markdown",
   "metadata": {},
   "source": [
    "# 一、__slots__"
   ]
  },
  {
   "cell_type": "code",
   "execution_count": null,
   "metadata": {},
   "outputs": [],
   "source": [
    "# -*- coding: utf-8 -*-\n",
    "__author__ = 'lijianming'\n",
    "\n",
    "from types import MethodType\n",
    "\n",
    "'''\n",
    "__slots__\n",
    "Python 中一个类被实例化后，依然可以绑定属性或方法，这是Python作为动态语言的一个标志\n",
    "'''\n",
    "\n",
    "\n",
    "class Food(object):\n",
    "    __slots__ = ('name', 'set_name')\n",
    "\n",
    "\n",
    "def set_name(self, name):\n",
    "    self.name = name\n",
    "\n",
    "\n",
    "food = Food()\n",
    "food.name = 'banana'\n",
    "print food.name\n",
    "\n",
    "food.set_name = MethodType(set_name, food, Food)  # 给实例绑定方法\n",
    "food.set_name = MethodType(set_name, None, Food)  # 给类绑定方法\n",
    "food.set_name('orange')\n",
    "print food.name\n",
    "food.weight = '1kg'\n",
    "\n",
    "'''\n",
    "这样，当我们试图绑定__slots__定义以外的属性时，就会抛AttributeError异常\n",
    "注意：\n",
    "1、__slots__定义的属性仅对当前类起作用，对继承的子类是不起作用的\n",
    "2、当我们使用__slots__后，实例将不会有自己的__dict__，可以起到节约内存的作用\n",
    "3、子类和父类都定义__slots__时，子类允许定义的属性就是自身的__slots__加上父类的__slots__\n",
    "4、如果父类存在__dict__属性,则其子类将继承__dict__，即使该子类包含了__slots__属性，该子类的实例依然可以任意添加变量\n",
    "'''\n"
   ]
  }
 ],
 "metadata": {
  "kernelspec": {
   "display_name": "Python 2",
   "language": "python",
   "name": "python2"
  },
  "language_info": {
   "codemirror_mode": {
    "name": "ipython",
    "version": 2
   },
   "file_extension": ".py",
   "mimetype": "text/x-python",
   "name": "python",
   "nbconvert_exporter": "python",
   "pygments_lexer": "ipython2",
   "version": "2.7.14"
  }
 },
 "nbformat": 4,
 "nbformat_minor": 2
}
