{
 "cells": [
  {
   "cell_type": "markdown",
   "metadata": {},
   "source": [
    "# 一、__slots__"
   ]
  },
  {
   "cell_type": "code",
   "execution_count": 1,
   "metadata": {},
   "outputs": [
    {
     "name": "stdout",
     "output_type": "stream",
     "text": [
      "banana\n"
     ]
    },
    {
     "ename": "TypeError",
     "evalue": "unbound method set_name() must be called with Food instance as first argument (got str instance instead)",
     "output_type": "error",
     "traceback": [
      "\u001b[0;31m---------------------------------------------------------------------------\u001b[0m",
      "\u001b[0;31mTypeError\u001b[0m                                 Traceback (most recent call last)",
      "\u001b[0;32m<ipython-input-1-5ddafb079ad0>\u001b[0m in \u001b[0;36m<module>\u001b[0;34m()\u001b[0m\n\u001b[1;32m     24\u001b[0m \u001b[0mfood\u001b[0m\u001b[0;34m.\u001b[0m\u001b[0mset_name\u001b[0m \u001b[0;34m=\u001b[0m \u001b[0mMethodType\u001b[0m\u001b[0;34m(\u001b[0m\u001b[0mset_name\u001b[0m\u001b[0;34m,\u001b[0m \u001b[0mfood\u001b[0m\u001b[0;34m,\u001b[0m \u001b[0mFood\u001b[0m\u001b[0;34m)\u001b[0m  \u001b[0;31m# 给实例绑定方法\u001b[0m\u001b[0;34m\u001b[0m\u001b[0m\n\u001b[1;32m     25\u001b[0m \u001b[0mfood\u001b[0m\u001b[0;34m.\u001b[0m\u001b[0mset_name\u001b[0m \u001b[0;34m=\u001b[0m \u001b[0mMethodType\u001b[0m\u001b[0;34m(\u001b[0m\u001b[0mset_name\u001b[0m\u001b[0;34m,\u001b[0m \u001b[0mNone\u001b[0m\u001b[0;34m,\u001b[0m \u001b[0mFood\u001b[0m\u001b[0;34m)\u001b[0m  \u001b[0;31m# 给类绑定方法\u001b[0m\u001b[0;34m\u001b[0m\u001b[0m\n\u001b[0;32m---> 26\u001b[0;31m \u001b[0mfood\u001b[0m\u001b[0;34m.\u001b[0m\u001b[0mset_name\u001b[0m\u001b[0;34m(\u001b[0m\u001b[0;34m'orange'\u001b[0m\u001b[0;34m)\u001b[0m\u001b[0;34m\u001b[0m\u001b[0m\n\u001b[0m\u001b[1;32m     27\u001b[0m \u001b[0;32mprint\u001b[0m \u001b[0mfood\u001b[0m\u001b[0;34m.\u001b[0m\u001b[0mname\u001b[0m\u001b[0;34m\u001b[0m\u001b[0m\n\u001b[1;32m     28\u001b[0m \u001b[0mfood\u001b[0m\u001b[0;34m.\u001b[0m\u001b[0mweight\u001b[0m \u001b[0;34m=\u001b[0m \u001b[0;34m'1kg'\u001b[0m\u001b[0;34m\u001b[0m\u001b[0m\n",
      "\u001b[0;31mTypeError\u001b[0m: unbound method set_name() must be called with Food instance as first argument (got str instance instead)"
     ]
    }
   ],
   "source": [
    "# -*- coding: utf-8 -*-\n",
    "__author__ = 'lijianming'\n",
    "\n",
    "from types import MethodType\n",
    "\n",
    "'''\n",
    "__slots__\n",
    "Python 中一个类被实例化后，依然可以绑定属性或方法，这是Python作为动态语言的一个标志\n",
    "'''\n",
    "\n",
    "\n",
    "class Food(object):\n",
    "    __slots__ = ('name', 'set_name')\n",
    "\n",
    "\n",
    "def set_name(self, name):\n",
    "    self.name = name\n",
    "\n",
    "\n",
    "food = Food()\n",
    "food.name = 'banana'\n",
    "print food.name\n",
    "\n",
    "food.set_name = MethodType(set_name, food, Food)  # 给实例绑定方法\n",
    "food.set_name = MethodType(set_name, None, Food)  # 给类绑定方法\n",
    "food.set_name('orange')\n",
    "print food.name\n",
    "food.weight = '1kg'\n",
    "\n",
    "'''\n",
    "这样，当我们试图绑定__slots__定义以外的属性时，就会抛AttributeError异常\n",
    "注意：\n",
    "1、__slots__定义的属性仅对当前类起作用，对继承的子类是不起作用的\n",
    "2、当我们使用__slots__后，实例将不会有自己的__dict__，可以起到节约内存的作用\n",
    "3、子类和父类都定义__slots__时，子类允许定义的属性就是自身的__slots__加上父类的__slots__\n",
    "4、如果父类存在__dict__属性,则其子类将继承__dict__，即使该子类包含了__slots__属性，该子类的实例依然可以任意添加变量\n",
    "'''\n"
   ]
  },
  {
   "cell_type": "code",
   "execution_count": null,
   "metadata": {},
   "outputs": [],
   "source": []
  }
 ],
 "metadata": {
  "kernelspec": {
   "display_name": "Python 2",
   "language": "python",
   "name": "python2"
  }
 },
 "nbformat": 4,
 "nbformat_minor": 2
}
