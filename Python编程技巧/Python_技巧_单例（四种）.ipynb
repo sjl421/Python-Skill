{
 "cells": [
  {
   "cell_type": "markdown",
   "metadata": {},
   "source": [
    "# 一、使用函数装饰器实现单例"
   ]
  },
  {
   "cell_type": "code",
   "execution_count": 1,
   "metadata": {},
   "outputs": [
    {
     "name": "stdout",
     "output_type": "stream",
     "text": [
      "True\n"
     ]
    }
   ],
   "source": [
    "'''\n",
    "_instance = {}\n",
    "使用不可变的类地址作为键，其实例作为值，\n",
    "每次创造实例时，首先查看该类是否存在实例，\n",
    "存在的话直接返回该实例即可，否则新建一个实例并存放在字典中。\n",
    "'''\n",
    "\n",
    "def singleton(cls):\n",
    "    _instance = {}\n",
    "\n",
    "    def inner():\n",
    "        if cls not in _instance:\n",
    "            _instance[cls] = cls()\n",
    "        return _instance[cls]\n",
    "    return inner\n",
    "    \n",
    "@singleton\n",
    "class Cls(object):\n",
    "    def __init__(self):\n",
    "        pass\n",
    "\n",
    "cls1 = Cls()\n",
    "cls2 = Cls()\n",
    "print(id(cls1) == id(cls2))"
   ]
  },
  {
   "cell_type": "markdown",
   "metadata": {},
   "source": [
    "# 二、使用类装饰器实现单例"
   ]
  },
  {
   "cell_type": "code",
   "execution_count": 2,
   "metadata": {},
   "outputs": [
    {
     "name": "stdout",
     "output_type": "stream",
     "text": [
      "True\n"
     ]
    }
   ],
   "source": [
    "class Singleton(object):\n",
    "    def __init__(self, cls):\n",
    "        self._cls = cls\n",
    "        self._instance = {}\n",
    "    def __call__(self):\n",
    "        if self._cls not in self._instance:\n",
    "            self._instance[self._cls] = self._cls()\n",
    "        return self._instance[self._cls]\n",
    "\n",
    "@Singleton\n",
    "class Cls2(object):\n",
    "    def __init__(self):\n",
    "        pass\n",
    "\n",
    "cls1 = Cls2()\n",
    "cls2 = Cls2()\n",
    "print(id(cls1) == id(cls2))"
   ]
  },
  {
   "cell_type": "markdown",
   "metadata": {},
   "source": [
    "# 三、使用 new 关键字实现单例模式"
   ]
  },
  {
   "cell_type": "markdown",
   "metadata": {},
   "source": [
    "### 简单来说，元类(metaclass) 可以通过方法 __metaclass__ 创造了类(class)，而类(class)通过方法 __new__ 创造了实例(instance)。"
   ]
  },
  {
   "cell_type": "code",
   "execution_count": 3,
   "metadata": {},
   "outputs": [
    {
     "name": "stdout",
     "output_type": "stream",
     "text": [
      "True\n"
     ]
    }
   ],
   "source": [
    "class Single(object):\n",
    "    _instance = None\n",
    "    def __new__(cls, *args, **kw):\n",
    "        if cls._instance is None:\n",
    "            cls._instance = object.__new__(cls, *args, **kw)\n",
    "        return cls._instance\n",
    "    def __init__(self):\n",
    "        pass\n",
    "\n",
    "single1 = Single()\n",
    "single2 = Single()\n",
    "print(id(single1) == id(single2))"
   ]
  },
  {
   "cell_type": "markdown",
   "metadata": {},
   "source": [
    "# 四、使用 metaclass 实现单例模式 "
   ]
  },
  {
   "cell_type": "code",
   "execution_count": 5,
   "metadata": {},
   "outputs": [
    {
     "ename": "SyntaxError",
     "evalue": "invalid syntax (<ipython-input-5-ea956ed616b5>, line 8)",
     "output_type": "error",
     "traceback": [
      "\u001b[0;36m  File \u001b[0;32m\"<ipython-input-5-ea956ed616b5>\"\u001b[0;36m, line \u001b[0;32m8\u001b[0m\n\u001b[0;31m    class Cls4(metaclass=Singleton):\u001b[0m\n\u001b[0m                        ^\u001b[0m\n\u001b[0;31mSyntaxError\u001b[0m\u001b[0;31m:\u001b[0m invalid syntax\n"
     ]
    }
   ],
   "source": [
    "class Singleton(type):\n",
    "    _instances = {}\n",
    "    def __call__(cls, *args, **kwargs):\n",
    "        if cls not in cls._instances:\n",
    "            cls._instances[cls] = super(Singleton, cls).__call__(*args, **kwargs)\n",
    "        return cls._instances[cls]\n",
    "\n",
    "class Cls4(metaclass=Singleton):\n",
    "    pass\n",
    "\n",
    "cls1 = Cls4()\n",
    "cls2 = Cls4()\n",
    "print(id(cls1) == id(cls2))"
   ]
  },
  {
   "cell_type": "code",
   "execution_count": null,
   "metadata": {},
   "outputs": [],
   "source": []
  }
 ],
 "metadata": {
  "kernelspec": {
   "display_name": "Python 2",
   "language": "python",
   "name": "python2"
  },
  "language_info": {
   "codemirror_mode": {
    "name": "ipython",
    "version": 2
   },
   "file_extension": ".py",
   "mimetype": "text/x-python",
   "name": "python",
   "nbconvert_exporter": "python",
   "pygments_lexer": "ipython2",
   "version": "2.7.14"
  }
 },
 "nbformat": 4,
 "nbformat_minor": 2
}
