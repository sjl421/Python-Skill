{
 "cells": [
  {
   "cell_type": "markdown",
   "metadata": {},
   "source": [
    "# 一、打印Python库的Help信息"
   ]
  },
  {
   "cell_type": "code",
   "execution_count": 3,
   "metadata": {},
   "outputs": [],
   "source": [
    "# -*- coding: utf-8 -*-\n",
    "__author__ = 'lijianming'\n",
    "import os\n",
    "import sys\n",
    "import shutil\n",
    "\n",
    "libs = ['cv2','numpy','pandas','matplot','sklearn','scipy','tensorflow','sqlalchemy','abc']\n",
    "\n",
    "if not os.path.exists('HELP_INFO'):\n",
    "    os.mkdir('HELP_INFO')\n",
    "\n",
    "out = sys.stdout\n",
    "for lib in libs:\n",
    "    sys.stdout = open(os.path.join('HELP_INFO',lib + '.txt'),'w')\n",
    "    help(lib)\n",
    "    sys.stdout.close()\n",
    "sys.stdout = out"
   ]
  },
  {
   "cell_type": "markdown",
   "metadata": {},
   "source": [
    "# 二、abc抽象类"
   ]
  },
  {
   "cell_type": "code",
   "execution_count": 1,
   "metadata": {},
   "outputs": [
    {
     "name": "stdout",
     "output_type": "stream",
     "text": [
      "Subclass: True\n",
      "Instance: True\n"
     ]
    }
   ],
   "source": [
    "# -*- coding: utf-8 -*-\n",
    "__author__ = 'lijianming'\n",
    "\n",
    "import abc\n",
    "\n",
    "#抽象类\n",
    "class PluginBase(object):\n",
    "    __metaclass__ = abc.ABCMeta\n",
    "    \n",
    "    #抽象方法\n",
    "    @abc.abstractmethod\n",
    "    def load(self,input):\n",
    "        return\n",
    "    \n",
    "    @abc.abstractmethod\n",
    "    def save(self,input):\n",
    "        return\n",
    "\n",
    "class SubClassImplemention(PluginBase):\n",
    "    def load(self,input):\n",
    "        return input.read()\n",
    "    \n",
    "    def save(self,output,data):\n",
    "        return output.write(data)\n",
    "\n",
    "if __name__ == '__main__':\n",
    "    print 'Subclass:', issubclass(SubClassImplemention,PluginBase)\n",
    "    print 'Instance:', isinstance(SubClassImplemention(),PluginBase)"
   ]
  },
  {
   "cell_type": "markdown",
   "metadata": {},
   "source": [
    "# 三、字符串驻留"
   ]
  },
  {
   "cell_type": "code",
   "execution_count": 2,
   "metadata": {},
   "outputs": [
    {
     "name": "stdout",
     "output_type": "stream",
     "text": [
      "True\n",
      "False\n"
     ]
    }
   ],
   "source": [
    "# -*- coding: utf-8 -*-\n",
    "__author__ = 'lijianming'\n",
    "\n",
    "'''\n",
    "系统维护interned字典，记录已经被主流的字符串对象。\n",
    "字符串只在编译时进行驻留，而非运行时\n",
    "'''\n",
    "ab = 'hello'+'word'\n",
    "print ab is 'helloword'\n",
    "\n",
    "a = 'hello'\n",
    "b = 'world'\n",
    "print a + b is 'helloworld'"
   ]
  },
  {
   "cell_type": "markdown",
   "metadata": {},
   "source": [
    "# 四、@property"
   ]
  },
  {
   "cell_type": "code",
   "execution_count": 3,
   "metadata": {},
   "outputs": [
    {
     "name": "stdout",
     "output_type": "stream",
     "text": [
      "22\n"
     ]
    }
   ],
   "source": [
    "# -*- coding: utf-8 -*-\n",
    "__author__ = 'lijianming'\n",
    "\n",
    "\n",
    "'''\n",
    "Python中类的属性是直接暴露在外的，可以直接进行赋值，但是赋值时存在着非法赋值的问题\n",
    "@property 则可以为属性的写入增加限制\n",
    "\n",
    "1、只有@property表示只读\n",
    "2、同时有@property和@x.setter表示可读可写\n",
    "'''\n",
    "\n",
    "class Clothes(object):\n",
    "    @property\n",
    "    def size(self):\n",
    "        return self._size\n",
    "\n",
    "    @size.setter\n",
    "    def size(self, value):\n",
    "        if not isinstance(value, int):\n",
    "            raise ValueError('size must be an integer!')\n",
    "        if value < 0:\n",
    "            raise ValueError('score must between 0~100!')\n",
    "        self._size = value\n",
    "\n",
    "clothes = Clothes()\n",
    "clothes.size = 22\n",
    "print clothes.size\n"
   ]
  },
  {
   "cell_type": "markdown",
   "metadata": {},
   "source": [
    "# 五、多重继承"
   ]
  },
  {
   "cell_type": "code",
   "execution_count": null,
   "metadata": {},
   "outputs": [],
   "source": [
    "# -*- coding: utf-8 -*-\n",
    "__author__ = 'lijianming'\n",
    "\n",
    "\n",
    "# 继承编程中两个常用函数issubclass()和isinstance()，一个用于判断继承关系，一个用于判断类的实例\n",
    "# 新式类是广度优先的查找算法。\n",
    "# 查找顺序：ClassD --> ClassB —> ClassC —> ClassA\n",
    "class ClassA(object):\n",
    "    def func(self):\n",
    "        print 'class A'\n",
    "\n",
    "\n",
    "class ClassB(ClassA):\n",
    "    pass\n",
    "\n",
    "\n",
    "class ClassC(ClassA):\n",
    "    def func(self):\n",
    "        print 'class C'\n",
    "\n",
    "\n",
    "class ClassD(ClassB, ClassC):\n",
    "    pass\n",
    "\n",
    "\n",
    "classd = ClassD()\n",
    "classd.func()\n",
    "\n",
    "\n",
    "# 旧式类的查找方法是深度优先的。\n",
    "# 查找顺序：ClassD --> ClassB  —> ClassA —> ClassC —> ClassA\n",
    "\n",
    "class ClassH():\n",
    "    def func(self):\n",
    "        print 'class A'\n",
    "\n",
    "\n",
    "class ClassI(ClassH):\n",
    "    pass\n",
    "\n",
    "\n",
    "class ClassJ(ClassH):\n",
    "    def func(self):\n",
    "        print 'class C'\n",
    "\n",
    "\n",
    "class ClassK(ClassI, ClassJ):\n",
    "    pass\n",
    "\n",
    "\n",
    "classk = ClassK()\n",
    "classk.func()"
   ]
  },
  {
   "cell_type": "markdown",
   "metadata": {},
   "source": [
    "# 六、上下文管理器"
   ]
  },
  {
   "cell_type": "code",
   "execution_count": 5,
   "metadata": {},
   "outputs": [
    {
     "name": "stdout",
     "output_type": "stream",
     "text": [
      "execption_type:  None\n",
      "execption_type:  None\n",
      "traceback:  None\n"
     ]
    }
   ],
   "source": [
    "# -*- coding: utf-8 -*-\n",
    "__author__ = 'lijianming'\n",
    "\n",
    "'''\n",
    "计算机中上线文是一个很抽象的概念，可以理解为一个特定场景或环境。\n",
    "Python中上线文管理器通常用于在资源的获取与释放相关的操作下进行程序执行。\n",
    "\n",
    "自定义上下文管理器：\n",
    "1、上线文管理协议\n",
    "2、with as 语法糖\n",
    "\n",
    "__enter__  和  __exit__  是context manager的两个“双下方法”，通过with语法进入context manager时，就是通过__enter__实现的，with代码块执行结束时执行__exit__\n",
    "\n",
    "其他：\n",
    "1、如果with代码块抛异常，__exit__方法依然会被执行\n",
    "2、__exit__中exception_type, exception_value, traceback，用于在context manager内代码抛出异常后，进行后续处理\n",
    "'''\n",
    "\n",
    "\n",
    "class Contextor:\n",
    "    def __init__(self, fname):\n",
    "        self.f = open(fname, 'w+')\n",
    "\n",
    "    def __enter__(self):\n",
    "        return self\n",
    "\n",
    "    def __exit__(self, exc_type, exc_val, exc_tb):\n",
    "        self.f.close()\n",
    "        print 'execption_type: ', exc_type\n",
    "        print 'execption_type: ', exc_val\n",
    "        print 'traceback: ', exc_tb\n",
    "\n",
    "    def do_something(self):\n",
    "        self.f.write('this is context manager')\n",
    "        self.f.write('do something')\n",
    "\n",
    "\n",
    "with Contextor('上下文管理器.txt') as f:\n",
    "    f.do_something()\n"
   ]
  },
  {
   "cell_type": "markdown",
   "metadata": {},
   "source": [
    "# 七、装饰器"
   ]
  },
  {
   "cell_type": "code",
   "execution_count": 6,
   "metadata": {},
   "outputs": [
    {
     "name": "stdout",
     "output_type": "stream",
     "text": [
      "int foo()\n",
      "used:  0.000173\n",
      "foo\n"
     ]
    }
   ],
   "source": [
    "# -*- coding: utf-8 -*-\n",
    "__author__ = 'lijianming'\n",
    "\n",
    "import time\n",
    "import functools\n",
    "\n",
    "\n",
    "def timeit(func):\n",
    "    @functools.wraps(func)\n",
    "    def wrapper():\n",
    "        start = time.clock()\n",
    "        func()\n",
    "        end = time.clock()\n",
    "        print 'used: ', end - start\n",
    "\n",
    "    return wrapper\n",
    "\n",
    "\n",
    "@timeit\n",
    "def foo():\n",
    "    print 'int foo()'\n",
    "\n",
    "\n",
    "foo()\n",
    "print foo.__name__\n"
   ]
  },
  {
   "cell_type": "markdown",
   "metadata": {},
   "source": [
    "# 八、or操作符"
   ]
  },
  {
   "cell_type": "code",
   "execution_count": 7,
   "metadata": {},
   "outputs": [
    {
     "name": "stdout",
     "output_type": "stream",
     "text": [
      "空字符串 空列表 零值,都被认为是False\n",
      "10\n",
      "0\n",
      "[]\n",
      "None\n",
      "使用or操作符,如果or左侧为False,则返回or右边的值\n",
      "10\n",
      "0\n",
      "0\n",
      "0\n",
      "更清晰的三元操作符(if/elset条件表达式)\n",
      "10\n",
      "0\n",
      "0\n",
      "0\n"
     ]
    }
   ],
   "source": [
    "# -*- coding: utf-8 -*-\n",
    "__author__ = 'lijianming'\n",
    "\n",
    "a = 10\n",
    "b = 0\n",
    "c = []\n",
    "d = None\n",
    "\n",
    "print '空字符串 空列表 零值,都被认为是False'\n",
    "print a\n",
    "print b\n",
    "print c\n",
    "print d\n",
    "\n",
    "print '使用or操作符,如果or左侧为False,则返回or右边的值'\n",
    "print a or 0\n",
    "print b or 0\n",
    "print c or 0\n",
    "print d or 0\n",
    "\n",
    "print '更清晰的三元操作符(if/elset条件表达式)'\n",
    "print a if a else 0\n",
    "print b if b else 0\n",
    "print c if c else 0\n",
    "print d if d else 0\n"
   ]
  },
  {
   "cell_type": "markdown",
   "metadata": {},
   "source": [
    "# 九、enumerate"
   ]
  },
  {
   "cell_type": "code",
   "execution_count": 8,
   "metadata": {},
   "outputs": [
    {
     "name": "stdout",
     "output_type": "stream",
     "text": [
      "0 H\n",
      "1 E\n",
      "2 L\n",
      "3 L\n",
      "4 O\n",
      "enumerate 可以将各种 迭代器 包装成 生成器\n",
      "0 H\n",
      "1 E\n",
      "2 L\n",
      "3 L\n",
      "4 O\n"
     ]
    }
   ],
   "source": [
    "# -*- coding: utf-8 -*-\n",
    "__author__ = 'lijianming'\n",
    "\n",
    "words = ['H', 'E', 'L', 'L', 'O']\n",
    "for i in range(len(words)):\n",
    "    print i, words[i]\n",
    "\n",
    "print 'enumerate 可以将各种 迭代器 包装成 生成器'\n",
    "for j, word in enumerate(words):\n",
    "    print j, word\n"
   ]
  },
  {
   "cell_type": "markdown",
   "metadata": {},
   "source": [
    "# 十、zip"
   ]
  },
  {
   "cell_type": "code",
   "execution_count": 11,
   "metadata": {},
   "outputs": [
    {
     "name": "stdout",
     "output_type": "stream",
     "text": [
      "平行地遍历多个迭代器,但是迭代器长度不相同时,会退出.可以改用itertools内置模块的多种zip\n",
      "h w\n",
      "e o\n",
      "l r\n",
      "l l\n",
      "o d\n"
     ]
    }
   ],
   "source": [
    "# -*- coding: utf-8 -*-\n",
    "__author__ = 'lijianming'\n",
    "\n",
    "A = 'hello'\n",
    "B = 'world'\n",
    "\n",
    "print '平行地遍历多个迭代器,但是迭代器长度不相同时,会退出.可以改用itertools内置模块的多种zip'\n",
    "for a, b in zip(A, B):\n",
    "    print a, b\n"
   ]
  },
  {
   "cell_type": "markdown",
   "metadata": {},
   "source": [
    "# 十一、yield"
   ]
  },
  {
   "cell_type": "code",
   "execution_count": 12,
   "metadata": {},
   "outputs": [
    {
     "name": "stdout",
     "output_type": "stream",
     "text": [
      "<generator object createGenerator at 0x11062ed70>\n",
      "0\n",
      "1\n",
      "4\n"
     ]
    }
   ],
   "source": [
    "# -*- coding: utf-8 -*-\n",
    "__author__ = 'lijianming'\n",
    "\n",
    "\n",
    "def createGenerator():\n",
    "    mylist = range(3)\n",
    "    for i in mylist:\n",
    "        yield i * i\n",
    "\n",
    "\n",
    "mygenerator = createGenerator()  # create a generator\n",
    "print(mygenerator)  # mygenerator is an object!\n",
    "\n",
    "for i in mygenerator:\n",
    "    print(i)\n"
   ]
  },
  {
   "cell_type": "code",
   "execution_count": null,
   "metadata": {},
   "outputs": [],
   "source": []
  }
 ],
 "metadata": {
  "kernelspec": {
   "display_name": "Python 2",
   "language": "python",
   "name": "python2"
  },
  "language_info": {
   "codemirror_mode": {
    "name": "ipython",
    "version": 2
   },
   "file_extension": ".py",
   "mimetype": "text/x-python",
   "name": "python",
   "nbconvert_exporter": "python",
   "pygments_lexer": "ipython2",
   "version": "2.7.14"
  }
 },
 "nbformat": 4,
 "nbformat_minor": 2
}
