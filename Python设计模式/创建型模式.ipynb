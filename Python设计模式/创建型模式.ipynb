{
 "cells": [
  {
   "cell_type": "markdown",
   "metadata": {},
   "source": [
    "# 工厂模式（Factory Pattern）\n",
    "### 意图：提供一个创建一系列相关或相互依赖对象的接口，而无需指定它们具体的类。\n",
    "### 主要解决：主要解决接口选择的问题。\n",
    "### 何时使用：系统的产品有多于一个的产品族，而系统只消费其中某一族的产品。\n",
    "### 如何解决：在一个产品族里面，定义多个产品。\n",
    "### 关键代码：在一个工厂里聚合多个同类产品。\n",
    "### 应用实例：工作了，为了参加一些聚会，肯定有两套或多套衣服吧，比如说有商务装（成套，一系列具体产品）、时尚装（成套，一系列具体产品），甚至对于一个家庭来说，可能有商务女装、商务男装、时尚女装、时尚男装，这些也都是成套的，即一系列具体产品。假设一种情况（现实中是不存在的，要不然，没法进入共产主义了，但有利于说明抽象工厂模式），在您的家中，某一个衣柜（具体工厂）只能存放某一种这样的衣服（成套，一系列具体产品），每次拿这种成套的衣服时也自然要从这个衣柜中取出了。用 OO 的思想去理解，所有的衣柜（具体工厂）都是衣柜类的（抽象工厂）某一个，而每一件成套的衣服又包括具体的上衣（某一具体产品），裤子（某一具体产品），这些具体的上衣其实也都是上衣（抽象产品），具体的裤子也都是裤子（另一个抽象产品）。\n",
    "### 优点：当一个产品族中的多个对象被设计成一起工作时，它能保证客户端始终只使用同一个产品族中的对象。\n",
    "### 缺点：产品族扩展非常困难，要增加一个系列的某一产品，既要在抽象的 Creator 里加代码，又要在具体的里面加代码。\n",
    "### 使用场景： 1、QQ 换皮肤，一整套一起换。 2、生成不同操作系统的程序。\n",
    "### 注意事项：产品族难扩展，产品等级易扩展。"
   ]
  },
  {
   "cell_type": "code",
   "execution_count": 2,
   "metadata": {},
   "outputs": [
    {
     "name": "stdout",
     "output_type": "stream",
     "text": [
      "('dog', '\\xcf\\x83\\xce\\xba\\xcf\\x8d\\xce\\xbb\\xce\\xbf\\xcf\\x82')\n",
      "('parrot', 'parrot')\n",
      "('cat', '\\xce\\xb3\\xce\\xac\\xcf\\x84\\xce\\xb1')\n",
      "('bear', 'bear')\n"
     ]
    }
   ],
   "source": [
    "# -*- coding: utf-8 -*-\n",
    "\n",
    "class GreekGetter(object):\n",
    "    \"\"\"A simple localizer a la gettext\"\"\"\n",
    "\n",
    "    def __init__(self):\n",
    "        self.trans = dict(dog=\"σκύλος\", cat=\"γάτα\")\n",
    "\n",
    "    def get(self, msgid):\n",
    "        \"\"\"We'll punt if we don't have a translation\"\"\"\n",
    "        return self.trans.get(msgid, str(msgid))\n",
    "\n",
    "\n",
    "class EnglishGetter(object):\n",
    "    \"\"\"Simply echoes the msg ids\"\"\"\n",
    "\n",
    "    def get(self, msgid):\n",
    "        return str(msgid)\n",
    "\n",
    "\n",
    "def get_localizer(language=\"English\"):\n",
    "    \"\"\"The factory method\"\"\"\n",
    "    languages = dict(English=EnglishGetter, Greek=GreekGetter)\n",
    "    return languages[language]()\n",
    "\n",
    "\n",
    "if __name__ == '__main__':\n",
    "    # Create our localizers\n",
    "    e, g = get_localizer(language=\"English\"), get_localizer(language=\"Greek\")\n",
    "    # Localize some text\n",
    "    for msgid in \"dog parrot cat bear\".split():\n",
    "        print(e.get(msgid), g.get(msgid))\n"
   ]
  },
  {
   "cell_type": "markdown",
   "metadata": {},
   "source": [
    "# 抽象工厂模式（Abstract Factory Pattern）\n"
   ]
  },
  {
   "cell_type": "code",
   "execution_count": null,
   "metadata": {},
   "outputs": [],
   "source": [
    "\n",
    "class PetShop(object):\n",
    "    def __init__(self, animal_factory=None):\n",
    "        self.pet_factory = animal_factory\n",
    "\n",
    "    def show_pet(self):\n",
    "        pet = self.pet_factory()\n",
    "        print(\"We have a lovely {}\".format(pet))\n",
    "        print(\"It says {}\".format(pet.speak()))\n",
    "        return pet\n",
    "\n",
    "\n",
    "class Dog(object):\n",
    "    def speak(self):\n",
    "        return \"woof\"\n",
    "\n",
    "    def __str__(self):\n",
    "        return \"Dog\"\n",
    "\n",
    "\n",
    "class Cat(object):\n",
    "    def speak(self):\n",
    "        return \"meow\"\n",
    "\n",
    "    def __str__(self):\n",
    "        return \"Cat\"\n",
    "\n",
    "\n",
    "if __name__ == \"__main__\":\n",
    "    ps = PetShop(Dog)\n",
    "    pet = ps.show_pet()\n",
    "    pet.speak()\n",
    "\n"
   ]
  },
  {
   "cell_type": "markdown",
   "metadata": {},
   "source": [
    "# 单例模式（Singleton Pattern）"
   ]
  },
  {
   "cell_type": "code",
   "execution_count": null,
   "metadata": {},
   "outputs": [],
   "source": []
  },
  {
   "cell_type": "markdown",
   "metadata": {},
   "source": [
    "# 建造者模式（Builder Pattern）"
   ]
  },
  {
   "cell_type": "code",
   "execution_count": null,
   "metadata": {},
   "outputs": [],
   "source": []
  },
  {
   "cell_type": "markdown",
   "metadata": {},
   "source": [
    "# 原型模式（Prototype Pattern）"
   ]
  },
  {
   "cell_type": "code",
   "execution_count": null,
   "metadata": {},
   "outputs": [],
   "source": []
  },
  {
   "cell_type": "code",
   "execution_count": null,
   "metadata": {},
   "outputs": [],
   "source": []
  }
 ],
 "metadata": {
  "kernelspec": {
   "display_name": "Python 2",
   "language": "python",
   "name": "python2"
  },
  "language_info": {
   "codemirror_mode": {
    "name": "ipython",
    "version": 2
   },
   "file_extension": ".py",
   "mimetype": "text/x-python",
   "name": "python",
   "nbconvert_exporter": "python",
   "pygments_lexer": "ipython2",
   "version": "2.7.14"
  }
 },
 "nbformat": 4,
 "nbformat_minor": 2
}
