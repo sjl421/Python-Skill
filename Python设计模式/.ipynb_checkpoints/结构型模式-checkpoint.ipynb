{
 "cells": [
  {
   "cell_type": "markdown",
   "metadata": {},
   "source": [
    "# 适配器模式（Adapter Pattern）"
   ]
  },
  {
   "cell_type": "markdown",
   "metadata": {},
   "source": [
    "### 意图：将一个类的接口转换成客户希望的另外一个接口。适配器模式使得原本由于接口不兼容而不能一起工作的那些类可以一起工作。\n",
    "### 主要解决：主要解决在软件系统中，常常要将一些\"现存的对象\"放到新的环境中，而新环境要求的接口是现对象不能满足的。\n",
    "### 何时使用： 1、系统需要使用现有的类，而此类的接口不符合系统的需要。 2、想要建立一个可以重复使用的类，用于与一些彼此之间没有太大关联的一些类，包括一些可能在将来引进的类一起工作，这些源类不一定有一致的接口。 3、通过接口转换，将一个类插入另一个类系中。（比如老虎和飞禽，现在多了一个飞虎，在不增加实体的需求下，增加一个适配器，在里面包容一个虎对象，实现飞的接口。）\n",
    "### 如何解决：继承或依赖（推荐）。\n",
    "### 关键代码：适配器继承或依赖已有的对象，实现想要的目标接口。\n",
    "### 应用实例： 1、美国电器 110V，中国 220V，就要有一个适配器将 110V 转化为 220V。 2、JAVA JDK 1.1 提供了 Enumeration 接口，而在 1.2 中提供了 Iterator 接口，想要使用 1.2 的 JDK，则要将以前系统的 Enumeration 接口转化为 Iterator 接口，这时就需要适配器模式。 3、在 LINUX 上运行 WINDOWS 程序。 4、JAVA 中的 jdbc。\n",
    "### 优点： 1、可以让任何两个没有关联的类一起运行。 2、提高了类的复用。 3、增加了类的透明度。 4、灵活性好。\n",
    "### 缺点： 1、过多地使用适配器，会让系统非常零乱，不易整体进行把握。比如，明明看到调用的是 A 接口，其实内部被适配成了 B 接口的实现，一个系统如果太多出现这种情况，无异于一场灾难。因此如果不是很有必要，可以不使用适配器，而是直接对系统进行重构。 2.由于 JAVA 至多继承一个类，所以至多只能适配一个适配者类，而且目标类必须是抽象类。\n",
    "### 使用场景：有动机地修改一个正常运行的系统的接口，这时应该考虑使用适配器模式。\n",
    "### 注意事项：适配器不是在详细设计时添加的，而是解决正在服役的项目的问题。"
   ]
  },
  {
   "cell_type": "code",
   "execution_count": 1,
   "metadata": {},
   "outputs": [
    {
     "name": "stdout",
     "output_type": "stream",
     "text": [
      "特殊请求\n"
     ]
    }
   ],
   "source": [
    "#!/usr/bin/env python\n",
    "# -*- coding:utf-8 -*-\n",
    "\n",
    "\n",
    "class Target(object):\n",
    "\n",
    "    def request(self):\n",
    "        print \"普通请求\"\n",
    "\n",
    "class Adaptee(object):\n",
    "\n",
    "    def specific_request(self):\n",
    "        print \"特殊请求\"\n",
    "\n",
    "class Adapter(Target):\n",
    "\n",
    "    def __init__(self):\n",
    "        self.adaptee = Adaptee()\n",
    "\n",
    "    def request(self):\n",
    "        self.adaptee.specific_request()\n",
    "\n",
    "if __name__ == \"__main__\":\n",
    "    target = Adapter()\n",
    "    target.request()"
   ]
  },
  {
   "cell_type": "markdown",
   "metadata": {},
   "source": [
    "# 桥接模式（Bridge Pattern）"
   ]
  },
  {
   "cell_type": "markdown",
   "metadata": {},
   "source": [
    "### 意图：将抽象部分与实现部分分离，使它们都可以独立的变化。\n",
    "### 主要解决：在有多种可能会变化的情况下，用继承会造成类爆炸问题，扩展起来不灵活。\n",
    "### 何时使用：实现系统可能有多个角度分类，每一种角度都可能变化。\n",
    "### 如何解决：把这种多角度分类分离出来，让它们独立变化，减少它们之间耦合。\n",
    "### 关键代码：抽象类依赖实现类。\n",
    "### 应用实例： 1、猪八戒从天蓬元帅转世投胎到猪，转世投胎的机制将尘世划分为两个等级，即：灵魂和肉体，前者相当于抽象化，后者相当于实现化。生灵通过功能的委派，调用肉体对象的功能，使得生灵可以动态地选择。 2、墙上的开关，可以看到的开关是抽象的，不用管里面具体怎么实现的。\n",
    "### 优点： 1、抽象和实现的分离。 2、优秀的扩展能力。 3、实现细节对客户透明。\n",
    "### 缺点：桥接模式的引入会增加系统的理解与设计难度，由于聚合关联关系建立在抽象层，要求开发者针对抽象进行设计与编程。\n",
    "### 使用场景： 1、如果一个系统需要在构件的抽象化角色和具体化角色之间增加更多的灵活性，避免在两个层次之间建立静态的继承联系，通过桥接模式可以使它们在抽象层建立一个关联关系。 2、对于那些不希望使用继承或因为多层次继承导致系统类的个数急剧增加的系统，桥接模式尤为适用。 3、一个类存在两个独立变化的维度，且这两个维度都需要进行扩展。\n",
    "### 注意事项：对于两个独立变化的维度，使用桥接模式再适合不过了。"
   ]
  },
  {
   "cell_type": "code",
   "execution_count": 2,
   "metadata": {},
   "outputs": [
    {
     "name": "stdout",
     "output_type": "stream",
     "text": [
      "API1.circle at 1:2 radius 7.5\n",
      "API2.circle at 5:7 radius 27.5\n"
     ]
    }
   ],
   "source": [
    "class DrawingAPI1(object):\n",
    "\n",
    "    def draw_circle(self, x, y, radius):\n",
    "        print('API1.circle at {}:{} radius {}'.format(x, y, radius))\n",
    "\n",
    "\n",
    "# ConcreteImplementor 2/2\n",
    "class DrawingAPI2(object):\n",
    "\n",
    "    def draw_circle(self, x, y, radius):\n",
    "        print('API2.circle at {}:{} radius {}'.format(x, y, radius))\n",
    "\n",
    "\n",
    "# Refined Abstraction\n",
    "class CircleShape(object):\n",
    "\n",
    "    def __init__(self, x, y, radius, drawing_api):\n",
    "        self._x = x\n",
    "        self._y = y\n",
    "        self._radius = radius\n",
    "        self._drawing_api = drawing_api\n",
    "\n",
    "    # low-level i.e. Implementation specific\n",
    "    def draw(self):\n",
    "        self._drawing_api.draw_circle(self._x, self._y, self._radius)\n",
    "\n",
    "    # high-level i.e. Abstraction specific\n",
    "    def scale(self, pct):\n",
    "        self._radius *= pct\n",
    "\n",
    "\n",
    "def main():\n",
    "    shapes = (\n",
    "        CircleShape(1, 2, 3, DrawingAPI1()),\n",
    "        CircleShape(5, 7, 11, DrawingAPI2())\n",
    "    )\n",
    "\n",
    "    for shape in shapes:\n",
    "        shape.scale(2.5)\n",
    "        shape.draw()\n",
    "\n",
    "\n",
    "if __name__ == '__main__':\n",
    "    main()"
   ]
  },
  {
   "cell_type": "markdown",
   "metadata": {},
   "source": [
    "# 过滤器模式（Filter、Criteria Pattern）"
   ]
  },
  {
   "cell_type": "code",
   "execution_count": null,
   "metadata": {},
   "outputs": [],
   "source": []
  },
  {
   "cell_type": "markdown",
   "metadata": {},
   "source": [
    "# 组合模式（Composite Pattern）"
   ]
  },
  {
   "cell_type": "markdown",
   "metadata": {},
   "source": [
    "### 意图：将对象组合成树形结构以表示\"部分-整体\"的层次结构。组合模式使得用户对单个对象和组合对象的使用具有一致性。\n",
    "### 主要解决：它在我们树型结构的问题中，模糊了简单元素和复杂元素的概念，客户程序可以向处理简单元素一样来处理复杂元素，从而使得客户程序与复杂元素的内部结构解耦。\n",
    "### 何时使用： 1、您想表示对象的部分-整体层次结构（树形结构）。 2、您希望用户忽略组合对象与单个对象的不同，用户将统一地使用组合结构中的所有对象。\n",
    "### 如何解决：树枝和叶子实现统一接口，树枝内部组合该接口。\n",
    "### 关键代码：树枝内部组合该接口，并且含有内部属性 List，里面放 Component。\n",
    "### 应用实例： 1、算术表达式包括操作数、操作符和另一个操作数，其中，另一个操作符也可以是操作数、操作符和另一个操作数。 2、在 JAVA AWT 和 SWING 中，对于 Button 和 Checkbox 是树叶，Container 是树枝。\n",
    "### 优点： 1、高层模块调用简单。 2、节点自由增加。\n",
    "### 缺点：在使用组合模式时，其叶子和树枝的声明都是实现类，而不是接口，违反了依赖倒置原则。\n",
    "### 使用场景：部分、整体场景，如树形菜单，文件、文件夹的管理。\n",
    "### 注意事项：定义时为具体类。"
   ]
  },
  {
   "cell_type": "code",
   "execution_count": 3,
   "metadata": {},
   "outputs": [
    {
     "name": "stdout",
     "output_type": "stream",
     "text": [
      "Ellipse: 1\n",
      "Ellipse: 2\n",
      "Ellipse: 3\n",
      "Ellipse: 4\n"
     ]
    }
   ],
   "source": [
    "\n",
    "class Graphic:\n",
    "    def render(self):\n",
    "        raise NotImplementedError(\"You should implement this.\")\n",
    "\n",
    "\n",
    "class CompositeGraphic(Graphic):\n",
    "    def __init__(self):\n",
    "        self.graphics = []\n",
    "\n",
    "    def render(self):\n",
    "        for graphic in self.graphics:\n",
    "            graphic.render()\n",
    "\n",
    "    def add(self, graphic):\n",
    "        self.graphics.append(graphic)\n",
    "\n",
    "    def remove(self, graphic):\n",
    "        self.graphics.remove(graphic)\n",
    "\n",
    "\n",
    "class Ellipse(Graphic):\n",
    "    def __init__(self, name):\n",
    "        self.name = name\n",
    "\n",
    "    def render(self):\n",
    "        print(\"Ellipse: {}\".format(self.name))\n",
    "\n",
    "\n",
    "if __name__ == '__main__':\n",
    "    ellipse1 = Ellipse(\"1\")\n",
    "    ellipse2 = Ellipse(\"2\")\n",
    "    ellipse3 = Ellipse(\"3\")\n",
    "    ellipse4 = Ellipse(\"4\")\n",
    "\n",
    "    graphic1 = CompositeGraphic()\n",
    "    graphic2 = CompositeGraphic()\n",
    "\n",
    "    graphic1.add(ellipse1)\n",
    "    graphic1.add(ellipse2)\n",
    "    graphic1.add(ellipse3)\n",
    "    graphic2.add(ellipse4)\n",
    "\n",
    "    graphic = CompositeGraphic()\n",
    "\n",
    "    graphic.add(graphic1)\n",
    "    graphic.add(graphic2)\n",
    "\n",
    "    graphic.render()\n"
   ]
  },
  {
   "cell_type": "markdown",
   "metadata": {},
   "source": [
    "# 装饰器模式（Decorator Pattern）"
   ]
  },
  {
   "cell_type": "markdown",
   "metadata": {},
   "source": [
    "### 意图：动态地给一个对象添加一些额外的职责。就增加功能来说，装饰器模式相比生成子类更为灵活。\n",
    "### 主要解决：一般的，我们为了扩展一个类经常使用继承方式实现，由于继承为类引入静态特征，并且随着扩展功能的增多，子类会很膨胀。\n",
    "### 何时使用：在不想增加很多子类的情况下扩展类。\n",
    "### 如何解决：将具体功能职责划分，同时继承装饰者模式。\n",
    "### 关键代码： 1、Component 类充当抽象角色，不应该具体实现。 2、修饰类引用和继承 Component 类，具体扩展类重写父类方法。\n",
    "### 应用实例： 1、孙悟空有 72 变，当他变成\"庙宇\"后，他的根本还是一只猴子，但是他又有了庙宇的功能。 2、不论一幅画有没有画框都可以挂在墙上，但是通常都是有画框的，并且实际上是画框被挂在墙上。在挂在墙上之前，画可以被蒙上玻璃，装到框子里；这时画、玻璃和画框形成了一个物体。\n",
    "### 优点：装饰类和被装饰类可以独立发展，不会相互耦合，装饰模式是继承的一个替代模式，装饰模式可以动态扩展一个实现类的功能。\n",
    "### 缺点：多层装饰比较复杂。\n",
    "### 使用场景： 1、扩展一个类的功能。 2、动态增加功能，动态撤销。\n",
    "### 注意事项：可代替继承。"
   ]
  },
  {
   "cell_type": "code",
   "execution_count": 4,
   "metadata": {},
   "outputs": [
    {
     "name": "stdout",
     "output_type": "stream",
     "text": [
      "('before:', 'hello, world!')\n",
      "('after:', '<i><b>hello, world!</b></i>')\n"
     ]
    }
   ],
   "source": [
    "\n",
    "class TextTag(object):\n",
    "    \"\"\"Represents a base text tag\"\"\"\n",
    "\n",
    "    def __init__(self, text):\n",
    "        self._text = text\n",
    "\n",
    "    def render(self):\n",
    "        return self._text\n",
    "\n",
    "\n",
    "class BoldWrapper(TextTag):\n",
    "    \"\"\"Wraps a tag in <b>\"\"\"\n",
    "\n",
    "    def __init__(self, wrapped):\n",
    "        self._wrapped = wrapped\n",
    "\n",
    "    def render(self):\n",
    "        return \"<b>{}</b>\".format(self._wrapped.render())\n",
    "\n",
    "\n",
    "class ItalicWrapper(TextTag):\n",
    "    \"\"\"Wraps a tag in <i>\"\"\"\n",
    "\n",
    "    def __init__(self, wrapped):\n",
    "        self._wrapped = wrapped\n",
    "\n",
    "    def render(self):\n",
    "        return \"<i>{}</i>\".format(self._wrapped.render())\n",
    "\n",
    "\n",
    "if __name__ == '__main__':\n",
    "    simple_hello = TextTag(\"hello, world!\")\n",
    "    special_hello = ItalicWrapper(BoldWrapper(simple_hello))\n",
    "    print(\"before:\", simple_hello.render())\n",
    "    print(\"after:\", special_hello.render())\n"
   ]
  },
  {
   "cell_type": "markdown",
   "metadata": {},
   "source": [
    "# 外观模式（Facade Pattern）"
   ]
  },
  {
   "cell_type": "markdown",
   "metadata": {},
   "source": [
    "### 意图：为子系统中的一组接口提供一个一致的界面，外观模式定义了一个高层接口，这个接口使得这一子系统更加容易使用。\n",
    "### 主要解决：降低访问复杂系统的内部子系统时的复杂度，简化客户端与之的接口。\n",
    "### 何时使用： 1、客户端不需要知道系统内部的复杂联系，整个系统只需提供一个\"接待员\"即可。 2、定义系统的入口。\n",
    "### 如何解决：客户端不与系统耦合，外观类与系统耦合。\n",
    "### 关键代码：在客户端和复杂系统之间再加一层，这一层将调用顺序、依赖关系等处理好。\n",
    "### 应用实例： 1、去医院看病，可能要去挂号、门诊、划价、取药，让患者或患者家属觉得很复杂，如果有提供接待人员，只让接待人员来处理，就很方便。 2、JAVA 的三层开发模式。\n",
    "### 优点： 1、减少系统相互依赖。 2、提高灵活性。 3、提高了安全性。\n",
    "### 缺点：不符合开闭原则，如果要改东西很麻烦，继承重写都不合适。\n",
    "### 使用场景： 1、为复杂的模块或子系统提供外界访问的模块。 2、子系统相对独立。 3、预防低水平人员带来的风险。\n",
    "### 注意事项：在层次化结构中，可以使用外观模式定义系统中每一层的入口。"
   ]
  },
  {
   "cell_type": "code",
   "execution_count": null,
   "metadata": {},
   "outputs": [],
   "source": []
  },
  {
   "cell_type": "markdown",
   "metadata": {},
   "source": [
    "# 享元模式（Flyweight Pattern）"
   ]
  },
  {
   "cell_type": "markdown",
   "metadata": {},
   "source": [
    "### 意图：运用共享技术有效地支持大量细粒度的对象。\n",
    "### 主要解决：在有大量对象时，有可能会造成内存溢出，我们把其中共同的部分抽象出来，如果有相同的业务请求，直接返回在内存中已有的对象，避免重新创建。\n",
    "### 何时使用： 1、系统中有大量对象。 2、这些对象消耗大量内存。 3、这些对象的状态大部分可以外部化。 4、这些对象可以按照内蕴状态分为很多组，当把外蕴对象从对象中剔除出来时，每一组对象都可以用一个对象来代替。 5、系统不依赖于这些对象身份，这些对象是不可分辨的。\n",
    "### 如何解决：用唯一标识码判断，如果在内存中有，则返回这个唯一标识码所标识的对象。\n",
    "### 关键代码：用 HashMap 存储这些对象。\n",
    "### 应用实例： 1、JAVA 中的 String，如果有则返回，如果没有则创建一个字符串保存在字符串缓存池里面。 2、数据库的数据池。\n",
    "### 优点：大大减少对象的创建，降低系统的内存，使效率提高。\n",
    "### 缺点：提高了系统的复杂度，需要分离出外部状态和内部状态，而且外部状态具有固有化的性质，不应该随着内部状态的变化而变化，否则会造成系统的混乱。\n",
    "### 使用场景： 1、系统有大量相似对象。 2、需要缓冲池的场景。\n",
    "### 注意事项： 1、注意划分外部状态和内部状态，否则可能会引起线程安全问题。 2、这些类必须有一个工厂对象加以控制。"
   ]
  },
  {
   "cell_type": "code",
   "execution_count": null,
   "metadata": {},
   "outputs": [],
   "source": []
  },
  {
   "cell_type": "markdown",
   "metadata": {},
   "source": [
    "# 代理模式（Proxy Pattern）"
   ]
  },
  {
   "cell_type": "markdown",
   "metadata": {},
   "source": [
    "### 意图：为其他对象提供一种代理以控制对这个对象的访问。\n",
    "### 主要解决：在直接访问对象时带来的问题，比如说：要访问的对象在远程的机器上。在面向对象系统中，有些对象由于某些原因（比如对象创建开销很大，或者某些操作需要安全控制，或者需要进程外的访问），直接访问会给使用者或者系统结构带来很多麻烦，我们可以在访问此对象时加上一个对此对象的访问层。\n",
    "### 何时使用：想在访问一个类时做一些控制。\n",
    "### 如何解决：增加中间层。\n",
    "### 关键代码：实现与被代理类组合。\n",
    "### 应用实例： 1、Windows 里面的快捷方式。 2、猪八戒去找高翠兰结果是孙悟空变的，可以这样理解：把高翠兰的外貌抽象出来，高翠兰本人和孙悟空都实现了这个接口，猪八戒访问高翠兰的时候看不出来这个是孙悟空，所以说孙悟空是高翠兰代理类。 3、买火车票不一定在火车站买，也可以去代售点。 4、一张支票或银行存单是账户中资金的代理。支票在市场交易中用来代替现金，并提供对签发人账号上资金的控制。 5、spring aop。\n",
    "### 优点： 1、职责清晰。 2、高扩展性。 3、智能化。\n",
    "### 缺点： 1、由于在客户端和真实主题之间增加了代理对象，因此有些类型的代理模式可能会造成请求的处理速度变慢。 2、实现代理模式需要额外的工作，有些代理模式的实现非常复杂。\n",
    "### 使用场景：按职责来划分，通常有以下使用场景： 1、远程代理。 2、虚拟代理。 3、Copy-on-Write 代理。 4、保护（Protect or Access）代理。 5、Cache代理。 6、防火墙（Firewall）代理。 7、同步化（Synchronization）代理。 8、智能引用（Smart Reference）代理。\n",
    "### 注意事项： 1、和适配器模式的区别：适配器模式主要改变所考虑对象的接口，而代理模式不能改变所代理类的接口。 2、和装饰器模式的区别：装饰器模式为了增强功能，而代理模式是为了加以控制。"
   ]
  },
  {
   "cell_type": "code",
   "execution_count": null,
   "metadata": {},
   "outputs": [],
   "source": []
  }
 ],
 "metadata": {
  "kernelspec": {
   "display_name": "Python 2",
   "language": "python",
   "name": "python2"
  },
  "language_info": {
   "codemirror_mode": {
    "name": "ipython",
    "version": 2
   },
   "file_extension": ".py",
   "mimetype": "text/x-python",
   "name": "python",
   "nbconvert_exporter": "python",
   "pygments_lexer": "ipython2",
   "version": "2.7.14"
  }
 },
 "nbformat": 4,
 "nbformat_minor": 2
}
