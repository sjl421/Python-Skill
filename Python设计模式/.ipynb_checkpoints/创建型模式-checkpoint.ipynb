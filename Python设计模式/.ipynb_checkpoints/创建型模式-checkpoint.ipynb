{
 "cells": [
  {
   "cell_type": "markdown",
   "metadata": {},
   "source": [
    "# 工厂模式（Factory Pattern）\n",
    "### 意图：定义一个创建对象的接口，让其子类自己决定实例化哪一个工厂类，工厂模式使其创建过程延迟到子类进行。\n",
    "### 主要解决：主要解决接口选择的问题。\n",
    "### 何时使用：我们明确地计划不同条件下创建不同实例时。\n",
    "### 如何解决：让其子类实现工厂接口，返回的也是一个抽象的产品。\n",
    "### 关键代码：创建过程在其子类执行。\n",
    "### 应用实例： 1、您需要一辆汽车，可以直接从工厂里面提货，而不用去管这辆汽车是怎么做出来的，以及这个汽车里面的具体实现。 2、Hibernate 换数据库只需换方言和驱动就可以。\n",
    "### 优点： 1、一个调用者想创建一个对象，只要知道其名称就可以了。 2、扩展性高，如果想增加一个产品，只要扩展一个工厂类就可以。 3、屏蔽产品的具体实现，调用者只关心产品的接口。\n",
    "### 缺点：每次增加一个产品时，都需要增加一个具体类和对象实现工厂，使得系统中类的个数成倍增加，在一定程度上增加了系统的复杂度，同时也增加了系统具体类的依赖。这并不是什么好事。\n",
    "### 使用场景： 1、日志记录器：记录可能记录到本地硬盘、系统事件、远程服务器等，用户可以选择记录日志到什么地方。 2、数据库访问，当用户不知道最后系统采用哪一类数据库，以及数据库可能有变化时。 3、设计一个连接服务器的框架，需要三个协议，\"POP3\"、\"IMAP\"、\"HTTP\"，可以把这三个作为产品类，共同实现一个接口。\n",
    "### 注意事项：作为一种创建类模式，在任何需要生成复杂对象的地方，都可以使用工厂方法模式。有一点需要注意的地方就是复杂对象适合使用工厂模式，而简单对象，特别是只需要通过 new 就可以完成创建的对象，无需使用工厂模式。如果使用工厂模式，就需要引入一个工厂类，会增加系统的复杂度。"
   ]
  },
  {
   "cell_type": "code",
   "execution_count": 6,
   "metadata": {},
   "outputs": [
    {
     "name": "stdout",
     "output_type": "stream",
     "text": [
      "一个卡车\n",
      "一个公交车\n"
     ]
    }
   ],
   "source": [
    "# -*- coding: utf-8 -*-\n",
    "\n",
    "\n",
    "class Car(object):\n",
    "    def description(self):\n",
    "        raise NotImplementedError\n",
    "\n",
    "\n",
    "class Truck(Car):\n",
    "    def description(self):\n",
    "        print '一个卡车'\n",
    "\n",
    "\n",
    "class Bus(Car):\n",
    "    def description(self):\n",
    "        print '一个公交车'\n",
    "\n",
    "\n",
    "class Kart(Car):\n",
    "    pass\n",
    "\n",
    "\n",
    "class Car_Factory(object):\n",
    "\n",
    "    @classmethod\n",
    "    def product(self, car_name):\n",
    "        if issubclass(car_name, Car):\n",
    "            return car_name()\n",
    "\n",
    "\n",
    "if __name__ == '__main__':\n",
    "    car = Car_Factory.product(Truck)\n",
    "    car.description()\n",
    "\n",
    "    car = Car_Factory.product(Bus)\n",
    "    car.description()\n",
    "\n",
    "    car = Car_Factory.product(Kart)\n",
    "    car.description()\n"
   ]
  },
  {
   "cell_type": "markdown",
   "metadata": {},
   "source": [
    "### 意图：提供一个创建一系列相关或相互依赖对象的接口，而无需指定它们具体的类。\n",
    "### 主要解决：主要解决接口选择的问题。\n",
    "### 何时使用：系统的产品有多于一个的产品族，而系统只消费其中某一族的产品。\n",
    "### 如何解决：在一个产品族里面，定义多个产品。\n",
    "### 关键代码：在一个工厂里聚合多个同类产品。\n",
    "### 应用实例：工作了，为了参加一些聚会，肯定有两套或多套衣服吧，比如说有商务装（成套，一系列具体产品）、时尚装（成套，一系列具体产品），甚至对于一个家庭来说，可能有商务女装、商务男装、时尚女装、时尚男装，这些也都是成套的，即一系列具体产品。假设一种情况（现实中是不存在的，要不然，没法进入共产主义了，但有利于说明抽象工厂模式），在您的家中，某一个衣柜（具体工厂）只能存放某一种这样的衣服（成套，一系列具体产品），每次拿这种成套的衣服时也自然要从这个衣柜中取出了。用 OO 的思想去理解，所有的衣柜（具体工厂）都是衣柜类的（抽象工厂）某一个，而每一件成套的衣服又包括具体的上衣（某一具体产品），裤子（某一具体产品），这些具体的上衣其实也都是上衣（抽象产品），具体的裤子也都是裤子（另一个抽象产品）。\n",
    "### 优点：当一个产品族中的多个对象被设计成一起工作时，它能保证客户端始终只使用同一个产品族中的对象。\n",
    "### 缺点：产品族扩展非常困难，要增加一个系列的某一产品，既要在抽象的 Creator 里加代码，又要在具体的里面加代码。\n",
    "### 使用场景： 1、QQ 换皮肤，一整套一起换。 2、生成不同操作系统的程序。\n",
    "### 注意事项：产品族难扩展，产品等级易扩展。"
   ]
  },
  {
   "cell_type": "markdown",
   "metadata": {},
   "source": [
    "# 抽象工厂模式（Abstract Factory Pattern）\n"
   ]
  },
  {
   "cell_type": "code",
   "execution_count": 7,
   "metadata": {},
   "outputs": [
    {
     "name": "stdout",
     "output_type": "stream",
     "text": [
      "开始组装奔驰: 气缸,变速器\n",
      "奔驰商务装饰\n",
      "这是一辆完整的奔驰\n",
      "开始组装宝马: 气缸,变速器\n",
      "这是一辆完整的奔驰\n"
     ]
    }
   ],
   "source": [
    "# -*- coding: utf-8 -*-\n",
    "\n",
    "class Car_Factory(object):\n",
    "    @classmethod\n",
    "    def make_engine(cls, air_cylinder):\n",
    "        return cls.Air_Cylinder(air_cylinder)\n",
    "\n",
    "    @classmethod\n",
    "    def make_transmission(cls, gear):\n",
    "        return cls.Gear(gear)\n",
    "\n",
    "    @classmethod\n",
    "    def assemble(cls, engine, transmission):\n",
    "        return cls().create(engine.air_cylinder, transmission.gear)\n",
    "\n",
    "    # 气缸\n",
    "    class Air_Cylinder(object):\n",
    "        def __init__(self, air_cylinder):\n",
    "            self.air_cylinder = air_cylinder\n",
    "\n",
    "    # 汽车档位\n",
    "    class Gear(object):\n",
    "        def __init__(self, gear):\n",
    "            self.gear = gear\n",
    "\n",
    "\n",
    "class BenChi_Factory(Car_Factory):\n",
    "    def create(self, air_cylinder, gear):\n",
    "        print '开始组装奔驰: ' + air_cylinder + ',' + gear\n",
    "        self.decorate()\n",
    "        return BenChi()\n",
    "\n",
    "    def decorate(self):\n",
    "        print '奔驰商务装饰'\n",
    "\n",
    "\n",
    "class BaoMa_Factory(Car_Factory):\n",
    "    def create(self, air_cylinder, gear):\n",
    "        print '开始组装宝马: ' + air_cylinder + ',' + gear\n",
    "        return BenChi()\n",
    "\n",
    "    def decorate(self):\n",
    "        print '宝马运动装饰'\n",
    "\n",
    "\n",
    "class BenChi(object):\n",
    "    def description(self):\n",
    "        print '这是一辆完整的奔驰'\n",
    "\n",
    "\n",
    "class BaoMa(object):\n",
    "    def description(self):\n",
    "        print '这是一辆完整的宝马'\n",
    "\n",
    "\n",
    "def create_car(factory):\n",
    "    engine = factory.make_engine('气缸')\n",
    "    transmission = factory.make_transmission('变速器')\n",
    "    car = factory.assemble(engine, transmission)\n",
    "    return car\n",
    "\n",
    "\n",
    "def main():\n",
    "    car = create_car(BenChi_Factory)\n",
    "    car.description()\n",
    "    car = create_car(BaoMa_Factory)\n",
    "    car.description()\n",
    "\n",
    "\n",
    "if __name__ == \"__main__\":\n",
    "    main()\n"
   ]
  },
  {
   "cell_type": "markdown",
   "metadata": {},
   "source": [
    "# 单例模式（Singleton Pattern）"
   ]
  },
  {
   "cell_type": "markdown",
   "metadata": {},
   "source": [
    "### 意图：保证一个类仅有一个实例，并提供一个访问它的全局访问点。\n",
    "### 主要解决：一个全局使用的类频繁地创建与销毁。\n",
    "### 何时使用：当您想控制实例数目，节省系统资源的时候。\n",
    "### 如何解决：判断系统是否已经有这个单例，如果有则返回，如果没有则创建。\n",
    "### 关键代码：构造函数是私有的。\n",
    "### 应用实例： 1、一个党只能有一个主席。 2、Windows 是多进程多线程的，在操作一个文件的时候，就不可避免地出现多个进程或线程同时操作一个文件的现象，所以所有文件的处理必须通过唯一的实例来进行。 3、一些设备管理器常常设计为单例模式，比如一个电脑有两台打印机，在输出的时候就要处理不能两台打印机打印同一个文件。\n",
    "### 优点： 1、在内存里只有一个实例，减少了内存的开销，尤其是频繁的创建和销毁实例（比如管理学院首页页面缓存）。 2、避免对资源的多重占用（比如写文件操作）。\n",
    "### 缺点：没有接口，不能继承，与单一职责原则冲突，一个类应该只关心内部逻辑，而不关心外面怎么样来实例化。\n",
    "### 使用场景： 1、要求生产唯一序列号。 2、WEB 中的计数器，不用每次刷新都在数据库里加一次，用单例先缓存起来。 3、创建的一个对象需要消耗的资源过多，比如 I/O 与数据库的连接等。\n",
    "### 注意事项：getInstance() 方法中需要使用同步锁 synchronized (Singleton.class) 防止多线程同时进入造成 instance 被多次实例化。"
   ]
  },
  {
   "cell_type": "code",
   "execution_count": null,
   "metadata": {},
   "outputs": [],
   "source": []
  },
  {
   "cell_type": "markdown",
   "metadata": {},
   "source": [
    "# 建造者模式（Builder Pattern）"
   ]
  },
  {
   "cell_type": "markdown",
   "metadata": {},
   "source": [
    "### 意图：将一个复杂的构建与其表示相分离，使得同样的构建过程可以创建不同的表示。\n",
    "### 主要解决：主要解决在软件系统中，有时候面临着\"一个复杂对象\"的创建工作，其通常由各个部分的子对象用一定的算法构成；由于需求的变化，这个复杂对象的各个部分经常面临着剧烈的变化，但是将它们组合在一起的算法却相对稳定。\n",
    "### 何时使用：一些基本部件不会变，而其组合经常变化的时候。\n",
    "### 如何解决：将变与不变分离开。\n",
    "### 关键代码：建造者：创建和提供实例，导演：管理建造出来的实例的依赖关系。\n",
    "### 应用实例： 1、去肯德基，汉堡、可乐、薯条、炸鸡翅等是不变的，而其组合是经常变化的，生成出所谓的\"套餐\"。 2、JAVA 中的 StringBuilder。\n",
    "### 优点： 1、建造者独立，易扩展。 2、便于控制细节风险。\n",
    "### 缺点： 1、产品必须有共同点，范围有限制。 2、如内部变化复杂，会有很多的建造类。\n",
    "### 使用场景： 1、需要生成的对象具有复杂的内部结构。 2、需要生成的对象内部属性本身相互依赖。\n",
    "### 注意事项：与工厂模式的区别是：建造者模式更加关注与零件装配的顺序。"
   ]
  },
  {
   "cell_type": "code",
   "execution_count": 8,
   "metadata": {},
   "outputs": [
    {
     "name": "stdout",
     "output_type": "stream",
     "text": [
      "Floor: One | Size: Big and fancy\n",
      "Floor: More than One | Size: Small\n"
     ]
    }
   ],
   "source": [
    "# -*- coding: utf-8 -*-\n",
    "\n",
    "class ComplexBuilding(object):\n",
    "    def __repr__(self):\n",
    "        return 'Floor: {0.floor} | Size: {0.size}'.format(self)\n",
    "\n",
    "\n",
    "class ComplexHouse(ComplexBuilding):\n",
    "    def build_floor(self):\n",
    "        self.floor = 'One'\n",
    "\n",
    "    def build_size(self):\n",
    "        self.size = 'Big and fancy'\n",
    "\n",
    "\n",
    "class ComplexFlat(ComplexBuilding):\n",
    "    def build_floor(self):\n",
    "        self.floor = 'More than One'\n",
    "\n",
    "    def build_size(self):\n",
    "        self.size = 'Small'\n",
    "\n",
    "\n",
    "def construct_building(cls):\n",
    "    building = cls()\n",
    "    building.build_floor()\n",
    "    building.build_size()\n",
    "    return building\n",
    "\n",
    "\n",
    "# Client\n",
    "if __name__ == \"__main__\":\n",
    "    # Using an external constructor function:\n",
    "    complex_house = construct_building(ComplexHouse)\n",
    "    print(complex_house)\n",
    "\n",
    "    complex_flat = construct_building(ComplexFlat)\n",
    "    print(complex_flat)\n"
   ]
  },
  {
   "cell_type": "markdown",
   "metadata": {},
   "source": [
    "# 原型模式（Prototype Pattern）"
   ]
  },
  {
   "cell_type": "markdown",
   "metadata": {},
   "source": [
    "### 意图：用原型实例指定创建对象的种类，并且通过拷贝这些原型创建新的对象。\n",
    "### 主要解决：在运行期建立和删除原型。\n",
    "### 何时使用： 1、当一个系统应该独立于它的产品创建，构成和表示时。 2、当要实例化的类是在运行时刻指定时，例如，通过动态装载。 3、为了避免创建一个与产品类层次平行的工厂类层次时。 4、当一个类的实例只能有几个不同状态组合中的一种时。建立相应数目的原型并克隆它们可能比每次用合适的状态手工实例化该类更方便一些。\n",
    "### 如何解决：利用已有的一个原型对象，快速地生成和原型对象一样的实例。\n",
    "### 关键代码： 1、实现克隆操作，在 JAVA 继承 Cloneable，重写 clone()，在 .NET 中可以使用 Object 类的 MemberwiseClone() 方法来实现对象的浅拷贝或通过序列化的方式来实现深拷贝。 2、原型模式同样用于隔离类对象的使用者和具体类型（易变类）之间的耦合关系，它同样要求这些\"易变类\"拥有稳定的接口。\n",
    "### 应用实例： 1、细胞分裂。 2、JAVA 中的 Object clone() 方法。\n",
    "### 优点： 1、性能提高。 2、逃避构造函数的约束。\n",
    "### 缺点： 1、配备克隆方法需要对类的功能进行通盘考虑，这对于全新的类不是很难，但对于已有的类不一定很容易，特别当一个类引用不支持串行化的间接对象，或者引用含有循环结构的时候。 2、必须实现 Cloneable 接口。\n",
    "### 使用场景： 1、资源优化场景。 2、类初始化需要消化非常多的资源，这个资源包括数据、硬件资源等。 3、性能和安全要求的场景。 4、通过 new 产生一个对象需要非常繁琐的数据准备或访问权限，则可以使用原型模式。 5、一个对象多个修改者的场景。 6、一个对象需要提供给其他对象访问，而且各个调用者可能都需要修改其值时，可以考虑使用原型模式拷贝多个对象供调用者使用。 7、在实际项目中，原型模式很少单独出现，一般是和工厂方法模式一起出现，通过 clone 的方法创建一个对象，然后由工厂方法提供给调用者。原型模式已经与 Java 融为浑然一体，大家可以随手拿来使用。\n",
    "### 注意事项：与通过对一个类进行实例化来构造新对象不同的是，原型模式是通过拷贝一个现有对象生成新对象的。浅拷贝实现 Cloneable，重写，深拷贝是通过实现 Serializable 读取二进制流。"
   ]
  },
  {
   "cell_type": "code",
   "execution_count": 9,
   "metadata": {},
   "outputs": [
    {
     "name": "stdout",
     "output_type": "stream",
     "text": [
      "[{'default': 'default'}, {'objecta': 'a-value'}, {'objectb': 'b-value'}]\n"
     ]
    }
   ],
   "source": [
    "# -*- coding: utf-8 -*-\n",
    "\n",
    "\n",
    "class Prototype(object):\n",
    "    value = 'default'\n",
    "\n",
    "    def clone(self, **attrs):\n",
    "        \"\"\"Clone a prototype and update inner attributes dictionary\"\"\"\n",
    "        # Python in Practice, Mark Summerfield\n",
    "        obj = self.__class__()\n",
    "        obj.__dict__.update(attrs)\n",
    "        return obj\n",
    "\n",
    "\n",
    "class PrototypeDispatcher(object):\n",
    "    def __init__(self):\n",
    "        self._objects = {}\n",
    "\n",
    "    def get_objects(self):\n",
    "        \"\"\"Get all objects\"\"\"\n",
    "        return self._objects\n",
    "\n",
    "    def register_object(self, name, obj):\n",
    "        \"\"\"Register an object\"\"\"\n",
    "        self._objects[name] = obj\n",
    "\n",
    "    def unregister_object(self, name):\n",
    "        \"\"\"Unregister an object\"\"\"\n",
    "        del self._objects[name]\n",
    "\n",
    "\n",
    "def main():\n",
    "    dispatcher = PrototypeDispatcher()\n",
    "    prototype = Prototype()\n",
    "\n",
    "    d = prototype.clone()\n",
    "    a = prototype.clone(value='a-value', category='a')\n",
    "    b = prototype.clone(value='b-value', is_checked=True)\n",
    "    dispatcher.register_object('objecta', a)\n",
    "    dispatcher.register_object('objectb', b)\n",
    "    dispatcher.register_object('default', d)\n",
    "    print([{n: p.value} for n, p in dispatcher.get_objects().items()])\n",
    "\n",
    "\n",
    "if __name__ == '__main__':\n",
    "    main()\n"
   ]
  },
  {
   "cell_type": "code",
   "execution_count": null,
   "metadata": {},
   "outputs": [],
   "source": []
  }
 ],
 "metadata": {
  "kernelspec": {
   "display_name": "Python 2",
   "language": "python",
   "name": "python2"
  },
  "language_info": {
   "codemirror_mode": {
    "name": "ipython",
    "version": 2
   },
   "file_extension": ".py",
   "mimetype": "text/x-python",
   "name": "python",
   "nbconvert_exporter": "python",
   "pygments_lexer": "ipython2",
   "version": "2.7.14"
  }
 },
 "nbformat": 4,
 "nbformat_minor": 2
}
