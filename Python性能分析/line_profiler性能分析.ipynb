{
 "cells": [
  {
   "cell_type": "code",
   "execution_count": 1,
   "metadata": {},
   "outputs": [
    {
     "ename": "ImportError",
     "evalue": "No module named line_profiler",
     "output_type": "error",
     "traceback": [
      "\u001b[0;31m---------------------------------------------------------------------------\u001b[0m",
      "\u001b[0;31mImportError\u001b[0m                               Traceback (most recent call last)",
      "\u001b[0;32m<ipython-input-1-9941f12fae42>\u001b[0m in \u001b[0;36m<module>\u001b[0;34m()\u001b[0m\n\u001b[1;32m      6\u001b[0m '''\n\u001b[1;32m      7\u001b[0m \u001b[0;34m\u001b[0m\u001b[0m\n\u001b[0;32m----> 8\u001b[0;31m \u001b[0;32mfrom\u001b[0m \u001b[0mline_profiler\u001b[0m \u001b[0;32mimport\u001b[0m \u001b[0mLineProfiler\u001b[0m\u001b[0;34m\u001b[0m\u001b[0m\n\u001b[0m\u001b[1;32m      9\u001b[0m \u001b[0;32mimport\u001b[0m \u001b[0mrandom\u001b[0m\u001b[0;34m\u001b[0m\u001b[0m\n\u001b[1;32m     10\u001b[0m \u001b[0;34m\u001b[0m\u001b[0m\n",
      "\u001b[0;31mImportError\u001b[0m: No module named line_profiler"
     ]
    }
   ],
   "source": [
    "__author__ = 'lijianming'\n",
    "'''\n",
    "pip install line_profiler\n",
    "\n",
    "\n",
    "'''\n",
    "\n",
    "from line_profiler import LineProfiler\n",
    "import random\n",
    "\n",
    "\n",
    "def do_other_stuff(numbers):\n",
    "    s = sum(numbers)\n",
    "\n",
    "\n",
    "def do_stuff(numbers):\n",
    "    do_other_stuff(numbers)\n",
    "    l = [numbers[i] / 43 for i in range(len(numbers))]\n",
    "    m = ['hello' + str(numbers[i]) for i in range(len(numbers))]\n",
    "\n",
    "\n",
    "numbers = [random.randint(1, 100) for i in range(1000)]\n",
    "lp = LineProfiler()\n",
    "lp.add_function(do_other_stuff)  # add additional function to profile\n",
    "lp_wrapper = lp(do_stuff)\n",
    "lp_wrapper(numbers)\n",
    "lp.print_stats()\n"
   ]
  },
  {
   "cell_type": "code",
   "execution_count": null,
   "metadata": {},
   "outputs": [],
   "source": []
  }
 ],
 "metadata": {
  "kernelspec": {
   "display_name": "Python 2",
   "language": "python",
   "name": "python2"
  },
  "language_info": {
   "codemirror_mode": {
    "name": "ipython",
    "version": 2
   },
   "file_extension": ".py",
   "mimetype": "text/x-python",
   "name": "python",
   "nbconvert_exporter": "python",
   "pygments_lexer": "ipython2",
   "version": "2.7.14"
  }
 },
 "nbformat": 4,
 "nbformat_minor": 2
}
