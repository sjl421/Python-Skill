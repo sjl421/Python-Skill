{
 "cells": [
  {
   "cell_type": "code",
   "execution_count": 2,
   "metadata": {},
   "outputs": [
    {
     "name": "stdout",
     "output_type": "stream",
     "text": [
      "result:21081849486.4\n",
      "         21 function calls in 4.791 seconds\n",
      "\n",
      "   Random listing order was used\n",
      "\n",
      "   ncalls  tottime  percall  cumtime  percall filename:lineno(function)\n",
      "        3    0.000    0.000    0.000    0.000 /anaconda2/lib/python2.7/site-packages/ipykernel/iostream.py:195(schedule)\n",
      "        3    0.000    0.000    0.000    0.000 /anaconda2/lib/python2.7/threading.py:986(isAlive)\n",
      "        1    4.791    4.791    4.791    4.791 <ipython-input-2-0e8b1e0c9cd5>:9(one_function)\n",
      "        2    0.000    0.000    0.000    0.000 /anaconda2/lib/python2.7/site-packages/ipykernel/iostream.py:313(_schedule_flush)\n",
      "        2    0.000    0.000    0.000    0.000 /anaconda2/lib/python2.7/site-packages/ipykernel/iostream.py:366(write)\n",
      "        3    0.000    0.000    0.000    0.000 /anaconda2/lib/python2.7/site-packages/ipykernel/iostream.py:93(_event_pipe)\n",
      "        3    0.000    0.000    0.000    0.000 /anaconda2/lib/python2.7/threading.py:570(isSet)\n",
      "        0    0.000             0.000          profile:0(profiler)\n",
      "        2    0.000    0.000    0.000    0.000 /anaconda2/lib/python2.7/site-packages/ipykernel/iostream.py:300(_is_master_process)\n",
      "        2    0.000    0.000    0.000    0.000 /anaconda2/lib/python2.7/encodings/utf_8.py:15(decode)\n",
      "\n",
      "\n"
     ]
    }
   ],
   "source": [
    "# -*- coding: utf-8 -*-\n",
    "__author__ = 'lijianming'\n",
    "\n",
    "import math\n",
    "import hotshot\n",
    "import hotshot.stats\n",
    "\n",
    "\n",
    "def one_function():\n",
    "    all = 0\n",
    "    for i in range(10000000):\n",
    "        all = all + math.sqrt(i)\n",
    "    print 'result:' + str(all)\n",
    "\n",
    "\n",
    "if __name__ == \"__main__\":\n",
    "    prof = hotshot.Profile(\"hotshot性能分析.txt\", 1)\n",
    "    prof.runcall(one_function)\n",
    "    prof.close()\n",
    "    p = hotshot.stats.load(\"hotshot性能分析.txt\")\n",
    "    p.print_stats()\n"
   ]
  },
  {
   "cell_type": "code",
   "execution_count": null,
   "metadata": {},
   "outputs": [],
   "source": []
  }
 ],
 "metadata": {
  "kernelspec": {
   "display_name": "Python 2",
   "language": "python",
   "name": "python2"
  },
  "language_info": {
   "codemirror_mode": {
    "name": "ipython",
    "version": 2
   },
   "file_extension": ".py",
   "mimetype": "text/x-python",
   "name": "python",
   "nbconvert_exporter": "python",
   "pygments_lexer": "ipython2",
   "version": "2.7.14"
  }
 },
 "nbformat": 4,
 "nbformat_minor": 2
}
