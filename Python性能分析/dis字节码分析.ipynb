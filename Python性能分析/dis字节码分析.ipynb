{
 "cells": [
  {
   "cell_type": "code",
   "execution_count": 1,
   "metadata": {},
   "outputs": [
    {
     "name": "stdout",
     "output_type": "stream",
     "text": [
      "  6           0 LOAD_CONST               1 (1)\n",
      "              3 STORE_FAST               0 (x)\n",
      "\n",
      "  7           6 LOAD_FAST                0 (x)\n",
      "              9 LOAD_CONST               2 (3)\n",
      "             12 COMPARE_OP               0 (<)\n",
      "             15 POP_JUMP_IF_FALSE       22\n",
      "\n",
      "  8          18 LOAD_CONST               3 ('yes')\n",
      "             21 RETURN_VALUE        \n",
      "\n",
      " 10     >>   22 LOAD_CONST               4 ('no')\n",
      "             25 RETURN_VALUE        \n",
      "             26 LOAD_CONST               0 (None)\n",
      "             29 RETURN_VALUE        \n"
     ]
    }
   ],
   "source": [
    "\n",
    "import dis\n",
    "\n",
    "\n",
    "def test():\n",
    "    x = 1\n",
    "    if x < 3:\n",
    "        return \"yes\"\n",
    "    else:\n",
    "        return \"no\"\n",
    "\n",
    "\n",
    "if __name__ == '__main__':\n",
    "    dis.dis(test)\n"
   ]
  },
  {
   "cell_type": "code",
   "execution_count": null,
   "metadata": {},
   "outputs": [],
   "source": []
  }
 ],
 "metadata": {
  "kernelspec": {
   "display_name": "Python 2",
   "language": "python",
   "name": "python2"
  },
  "language_info": {
   "codemirror_mode": {
    "name": "ipython",
    "version": 2
   },
   "file_extension": ".py",
   "mimetype": "text/x-python",
   "name": "python",
   "nbconvert_exporter": "python",
   "pygments_lexer": "ipython2",
   "version": "2.7.14"
  }
 },
 "nbformat": 4,
 "nbformat_minor": 2
}
