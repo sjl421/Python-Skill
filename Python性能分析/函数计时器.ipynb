{
 "cells": [
  {
   "cell_type": "code",
   "execution_count": 2,
   "metadata": {},
   "outputs": [
    {
     "name": "stdout",
     "output_type": "stream",
     "text": [
      "result:21081849486.4\n",
      "@function:one_function took:3.15339589119 seconds\n"
     ]
    }
   ],
   "source": [
    "from functools import wraps\n",
    "import time\n",
    "import math\n",
    "\n",
    "'''\n",
    "装饰器 方式 测试函数运行时间\n",
    "'''\n",
    "\n",
    "\n",
    "def time_cost(fn):\n",
    "    @wraps(fn)\n",
    "    def measure_time(*args, **kwargs):\n",
    "        start = time.time()\n",
    "        result = fn(*args, **kwargs)\n",
    "        end = time.time()\n",
    "        print '@function:' + fn.func_name + ' took:' + str(end - start) + ' seconds'\n",
    "        return result\n",
    "\n",
    "    return measure_time\n",
    "\n",
    "\n",
    "@time_cost\n",
    "def one_function(times):\n",
    "    all = 0\n",
    "    for i in range(times):\n",
    "        all = all + math.sqrt(i)\n",
    "    print 'result:' + str(all)\n",
    "\n",
    "\n",
    "one_function(10000000)"
   ]
  },
  {
   "cell_type": "code",
   "execution_count": null,
   "metadata": {},
   "outputs": [],
   "source": []
  }
 ],
 "metadata": {
  "kernelspec": {
   "display_name": "Python 2",
   "language": "python",
   "name": "python2"
  },
  "language_info": {
   "codemirror_mode": {
    "name": "ipython",
    "version": 2
   },
   "file_extension": ".py",
   "mimetype": "text/x-python",
   "name": "python",
   "nbconvert_exporter": "python",
   "pygments_lexer": "ipython2",
   "version": "2.7.14"
  }
 },
 "nbformat": 4,
 "nbformat_minor": 2
}
